{
 "cells": [
  {
   "cell_type": "markdown",
   "metadata": {},
   "source": [
    "# Sommaire\n",
    "--------------------\n",
    "\n",
    "1. [Environnement de travail](#partie1)\n",
    "    - [Github](#github)\n",
    "    - [Console](#console)\n",
    "    - [Environnement virtuel](#env)\n",
    "\n",
    "\n",
    "2. [Datas & développement](#partie2)\n",
    "    - [Front](#front)\n",
    "        - Tkinter\n",
    "        - Streamlit\n",
    "        - HTML/CSS\n",
    "    - [Back](#back)\n",
    "        - Flask\n",
    "    - [Base de données](#bdd)\n",
    "        - Merise\n",
    "        - SQL\n",
    "\n",
    "\n",
    "3. [Data Sciences](#partie3)\n",
    "    - [Librairies ](#lib)\n",
    "    - [Preprocessing](#preprocessing)\n",
    "    - [Machine Learning](#ml)\n"
   ]
  },
  {
   "cell_type": "markdown",
   "metadata": {},
   "source": [
    "## 1. Environnement de travail<a id=\"partie1\"></a>\n",
    "\n",
    "------"
   ]
  },
  {
   "cell_type": "markdown",
   "metadata": {},
   "source": [
    "### <span style=\"color: #1A5F7A\">1.1. Github</span><a id=\"github\"></a>"
   ]
  },
  {
   "cell_type": "markdown",
   "metadata": {},
   "source": [
    "Après avoir créer un compte sous GitHub, il est possible de créer des répertoire dans lesquels il sera possible de gérer le versionnage.\n",
    "\n",
    "La création d'un nouveau répertoire se fait à partir du bouton **<span style=\"background-color:lime;\"> New </span>**."
   ]
  },
  {
   "cell_type": "markdown",
   "metadata": {},
   "source": [
    "##### Création d'un répertoire\n",
    "Lors de la création d'un répertoire il est possible de :\n",
    "- Choisir le nom du répertoire\n",
    "- Ajouter une description pour décrire le projet\n",
    "- Choisir son statut (Public ou Privé)\n",
    "- Ajouter un fichier *README* : un fichier qui sert à décrire votre projet et à spécifier la façon de l'utiliser. Son contenu s'affiche automatiquement dans votre répertoire GitHub.\n",
    "- Ajouter un fichier *.gitignore* : fichier qui permet d'ignorer certains fichier ajouter en local. ([voir plus bas](#gitignore))\n",
    "- Choisir une licence"
   ]
  },
  {
   "cell_type": "markdown",
   "metadata": {},
   "source": [
    "![Nouveau repertoire GitHub](./images/github_new.png)"
   ]
  },
  {
   "cell_type": "markdown",
   "metadata": {},
   "source": [
    "##### Création ou importation de fichiers\n",
    "Une fois le répertoire créé, il est possible d'ajouter des fichiers dans le répertoire en cliquant sur **Add file**. On peut alors créer un fichier vierge, ou importer un/des fichier(s) ou même un dossier entier."
   ]
  },
  {
   "cell_type": "markdown",
   "metadata": {},
   "source": [
    "![Création de fichier](./images/github_creer_fichier.png)"
   ]
  },
  {
   "cell_type": "markdown",
   "metadata": {},
   "source": [
    "Il est possble d'utiliser GitHub en local à l'aide de l'application bureau [GitHub Desktop](https://desktop.github.com/). L'application nous permet de gérer les répertoires GitHub en local, il est possible de changer de branche ou créer des branches. Les modifications locale peuvent être visualisé avant de faire un commit et de le push sur le répertoire distant (enligne).\n",
    "\n",
    "![GitHub Desktop](https://desktop.github.com/images/github-desktop-screenshot-windows.png)"
   ]
  },
  {
   "cell_type": "markdown",
   "metadata": {},
   "source": [
    "### <span style=\"color: #1A5F7A\">1.2. Console</span><a id=\"console\"></a>\n",
    "\n",
    "##### Introduction à la Console\n",
    "\n",
    "Une console qu'est ce que c'est ? C'est un écran noir, qui est en attente d'une instruction, d'une commande shell.\n",
    "\n",
    "##### Notion de console\n",
    "\n",
    "Pour effectuer des actions en mode console, il faut entrer (exécuter) des commandes. Pour le commun des mortels, les consoles (car il peut en avoir plusieurs) sont émulées (ou simulées) par des Terminaux (une console dans une petite fenêtre) afin d'être accessibles en mode graphique.\n",
    "Pour résumer, une commande est pour une console, ce qu'un clic est pour une fenêtre\n",
    "\n",
    "##### Différence entre terminal et console\n",
    "\n",
    "En réalité, un terminal n'est qu'une émulation d'une console.\n",
    "Il y a sur Ubuntu 6 consoles disponibles (tty1, tty2 …), elles sont accessible via Ctrl+Alt+Fx où x est le numéro de la console à laquelle vous voulez vous rattacher.\n",
    "À partir de \"F7\" il ne s'agit plus de consoles à proprement parler, mais de sessions Xorg, c'est à dire de Linux en mode graphique. S'il y a plusieurs utilisateurs connectés, il y a plusieurs sessions Xorg auxquelles vous pouvez accéder via Ctrl+Alt+F9, etc. (à noter que Ctrl+Alt+F8 est en général une console spéciale où s'affichent des informations sur le démarrage de l'ordinateur).\n",
    "Ceci n'est qu'une convention, vous pouvez désactiver/activer des consoles sur d'autres touches Fonction (F*), ce n'est que la configuration par défaut.\n",
    "Il est, en général, préférable d'utiliser le terminal pour lancer des lignes de commandes, mais les consoles peuvent se révéler indispensables si, par exemple, l'interface graphique plante.\n",
    "\n",
    "- [Source](https://doc.ubuntu-fr.org/console)\n",
    "- [Raccourcis commandes](https://www.git-tower.com/blog/command-line-cheat-sheet/)\n"
   ]
  },
  {
   "cell_type": "markdown",
   "metadata": {},
   "source": [
    "### <span style=\"color: #1A5F7A\">1.3. Environnement virtuelle</span><a id=\"env\"></a>"
   ]
  },
  {
   "cell_type": "markdown",
   "metadata": {},
   "source": [
    "#### <span style=\"color: #086E7D\">Pip, Virtualenv, Pipenv </span>\n",
    "\n",
    "\n",
    "Pip est un système de gestion de paquets utilisé pour installer et gérer des librairies écrites en Python. Vous pouvez trouver une grande partie de ces librairies dans le Python Package Index (ou PyPI). Pip empêche les installations partielles en annonçant toutes les exigences avant l'installation.\n",
    "\n",
    "| Commandes  | Définition          | \n",
    "| :--------------- |:--------------- | \n",
    "| sudo apt-get install python 3-pip  |   Installer pip python 3        |\n",
    "| pip install django   | Pip permet d'installer une librarie aussi facilement que cela |  \n",
    "| pip install django--upgrade  | Mettre à jour une lib          |   \n",
    "| pip uninstall django | Supprimer une lib |\n",
    "\n",
    "[Raccourcis des commandes](./ressources/djackh_pip-virtualenv-pipenv.pdf)"
   ]
  },
  {
   "cell_type": "markdown",
   "metadata": {},
   "source": [
    "#### <span style=\"color: #086E7D\">Conda</span> \n",
    "\n",
    "Pour créer des environnements virtuels sous conda\n",
    "\n",
    "* [Raccourcis des commandes n°1](../Prairie/SupportFormation_Conda_Part_1.pdf)\n",
    "* [Raccourcis des commandes n°2](../Prairie/SupportFormation_Conda_Part_2.pdf)"
   ]
  },
  {
   "cell_type": "markdown",
   "metadata": {},
   "source": [
    "## 2. Datas & développement<a id=\"partie2\"></a>\n",
    "-------"
   ]
  },
  {
   "cell_type": "markdown",
   "metadata": {},
   "source": [
    "![schéma client serveur](./ressources/client_serveur.png)"
   ]
  },
  {
   "cell_type": "markdown",
   "metadata": {},
   "source": [
    "### <span style=\"color: #1A5F7A\">2.1. Front</span><a id=\"front\"></a>"
   ]
  },
  {
   "cell_type": "markdown",
   "metadata": {},
   "source": [
    "#### <span style=\"color: #086E7D\">Tkinter</span>\n",
    "[Tuto](https://python.doctor/page-tkinter-interface-graphique-python-tutoriel)"
   ]
  },
  {
   "cell_type": "markdown",
   "metadata": {},
   "source": [
    "#### <span style=\"color: #086E7D\">HTML/CSS</span>\n",
    "\n",
    "[W3School](https://www.w3schools.com/html/default.asp)  \n",
    "[MDN Web Doc](https://developer.mozilla.org/fr/docs/Web/HTML)"
   ]
  },
  {
   "cell_type": "markdown",
   "metadata": {},
   "source": [
    "### <span style=\"color: #1A5F7A\">2.2. Back</span><a id=\"back\"></a>"
   ]
  },
  {
   "cell_type": "markdown",
   "metadata": {},
   "source": [
    "**<span style=\"color: #086E7D\">Flask</span>** \n",
    "> Flask est un petit framework web Python léger qui fournit des outils et des fonctionnalités facilitant la\n",
    "création d'applications web en Python  \n",
    "\n",
    "[Exemple](../Dev/flask/flask_blog/kata_flask.pdf)"
   ]
  },
  {
   "cell_type": "markdown",
   "metadata": {},
   "source": [
    "### <span style=\"color: #1A5F7A\">2.3. Base de données</span><a id=\"bdd\"></a>"
   ]
  },
  {
   "cell_type": "markdown",
   "metadata": {},
   "source": [
    "**<span style=\"color: #086E7D\">Merise</span>**  \n",
    "> Il s'agit d'une méthode qui vise à analyser et concevoir un Système d’Information. Elle est plutôt adaptée à la gestion de projet interne, se limitant à un domaine précis et moins à des projets transverses.\n",
    "\n",
    "[Exemple](../Dev/merise/exemple_merise.pdf)"
   ]
  },
  {
   "cell_type": "markdown",
   "metadata": {},
   "source": [
    "**<span style=\"color: #086E7D\">SQL</span>**  \n",
    "\n",
    "[Requêtes SQL](../Dev/sql/mysql_requetes.pdf)  \n",
    "[Créer une BDD en ligne de commande](../Dev/sql/sql_cmd.pdf)"
   ]
  },
  {
   "cell_type": "markdown",
   "metadata": {},
   "source": [
    "## 3. Data Sciences<a id=\"partie3\"></a>\n",
    "----------"
   ]
  },
  {
   "cell_type": "markdown",
   "metadata": {},
   "source": [
    "### <span style=\"color: #1A5F7A\">3.1. Librairies</span><a id=\"lib\"></a>"
   ]
  },
  {
   "cell_type": "markdown",
   "metadata": {},
   "source": [
    "- [Pandas](./ressources/pandas.pdf)\n",
    "- [Numpy](./ressources/numpy.pdf)\n",
    "- [Matplotlib](./ressources/matplotlib_cheatsheets.pdf)\n",
    "- [Seaborn](./ressources/seaborn.pdf)\n",
    "- [Scikit-Learn](./ressources/sklearn.pdf)"
   ]
  },
  {
   "cell_type": "markdown",
   "metadata": {},
   "source": [
    "### <span style=\"color: #1A5F7A\">3.2. Preprocessing</span><a id=\"preprocessing\"></a>"
   ]
  },
  {
   "cell_type": "markdown",
   "metadata": {},
   "source": [
    "**<span style=\"color: #086E7D\">Label Encoder</span>** permet d'encoder des valeurs catégorielles en valeurs numériques (exemple: homme, femme, homme --> 0, 1,0)\n",
    "\n",
    "Exemple  \n",
    "``` \n",
    "from sklearn import preprocessing  \n",
    "le = preprocessing.LabelEncoder()  \n",
    "df['column'] = le.fit_transform(df['column'])\n",
    "```  \n",
    "\n",
    "[Plus de détails](https://scikit-learn.org/stable/modules/generated/sklearn.preprocessing.LabelEncoder.html)\n",
    "\n",
    "---------"
   ]
  },
  {
   "cell_type": "markdown",
   "metadata": {},
   "source": [
    "**<span style=\"color: #086E7D\">Simple Imputer</span>** permet de transformer les valeurs manquantes par d'autres valeurs (par exemple, la moyenne)\n",
    "\n",
    "Exemple  \n",
    "``` \n",
    "from sklearn.impute import SimpleImputer    \n",
    "imp = SimpleImputer(missing_values=np.nan, strategy='mean')    \n",
    "df['column'] = imp.fit_transform(df['column'])\n",
    "```    \n",
    "\n",
    "[Plus de détails](https://scikit-learn.org/stable/modules/generated/sklearn.impute.SimpleImputer.html)\n",
    "\n",
    "-------"
   ]
  },
  {
   "cell_type": "markdown",
   "metadata": {},
   "source": [
    "**<span style=\"color: #086E7D\">Standar Scaler</span>** permet de standardiser les 'features' en supprimant la moyenne et en mettant à l'échelle la variance unitaire. Plus simplement, il permet de transformer les données des features de sorte que sa distribution suive une loi normale de moyenne: 0 et d'écart type: 1. \n",
    "\n",
    "Le score standard d'un échantillon x est calculé comme suit :\n",
    "\n",
    "    `z = (x - u) / s`\n",
    "\n",
    "où u est la moyenne des échantillons d'apprentissage (ou 0 si with_mean=False), et s est l'écart type des échantillons d'apprentissage (ou 1 si with_std=False).\n",
    "\n",
    "Le centrage et la mise à l'échelle se produisent indépendamment sur chaque fonctionnalité en calculant les statistiques pertinentes sur les échantillons de l'ensemble d'apprentissage. La moyenne et l'écart type sont ensuite stockés pour être utilisés sur des données ultérieures à l'aide de la transformation.\n",
    "\n",
    "Exemple  \n",
    "```\n",
    "from sklearn.preprocessing import StandardScaler  \n",
    "scaler = StandardScaler()  \n",
    "scaler.fit(X)  \n",
    "scaler.mean_  \n",
    "scaler.transform(X)\n",
    "```   \n",
    "\n",
    "[Plus de détails](https://scikit-learn.org/stable/modules/generated/sklearn.preprocessing.StandardScaler.html)\n",
    "\n",
    "---------"
   ]
  },
  {
   "cell_type": "markdown",
   "metadata": {},
   "source": [
    "#### <span style=\"color: #086E7D\">Apprentissage supervisé</span>\n",
    "\n",
    "**Features**  \n",
    "`X = df[['col1', 'col2', 'col3']]`\n",
    "\n",
    "**Target**  \n",
    "`y = df['col4']`\n",
    "\n",
    "**Fractionner le jeu de données pour l’entrainement et le test**  \n",
    "`X_train, X_test, y_train, y_test = train_test_split(X, y, test_size = 0.2)`  \n",
    "\n",
    "Schéma du jeu de données :\n",
    "\n",
    "![jeu données](./ressources/data_train_test2.png)"
   ]
  },
  {
   "cell_type": "markdown",
   "metadata": {},
   "source": [
    "###  <span style=\"color: #1A5F7A\">3.3 Machine Learning</span><a id=\"ml\"></a>"
   ]
  },
  {
   "cell_type": "markdown",
   "metadata": {},
   "source": [
    "**Régression linéaire**"
   ]
  },
  {
   "cell_type": "markdown",
   "metadata": {},
   "source": []
  },
  {
   "cell_type": "code",
   "execution_count": null,
   "metadata": {},
   "outputs": [],
   "source": []
  }
 ],
 "metadata": {
  "kernelspec": {
   "display_name": "Python 3",
   "language": "python",
   "name": "python3"
  },
  "language_info": {
   "codemirror_mode": {
    "name": "ipython",
    "version": 3
   },
   "file_extension": ".py",
   "mimetype": "text/x-python",
   "name": "python",
   "nbconvert_exporter": "python",
   "pygments_lexer": "ipython3",
   "version": "3.8.3"
  }
 },
 "nbformat": 4,
 "nbformat_minor": 4
}
